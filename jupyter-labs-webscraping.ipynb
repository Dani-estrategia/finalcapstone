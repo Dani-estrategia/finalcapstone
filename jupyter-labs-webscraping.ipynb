{
 "cells": [
  {
   "cell_type": "markdown",
   "metadata": {},
   "source": [
    "<p style=\"text-align:center\">\n",
    "    <a href=\"https://skills.network\" target=\"_blank\">\n",
    "    <img src=\"https://cf-courses-data.s3.us.cloud-object-storage.appdomain.cloud/assets/logos/SN_web_lightmode.png\" width=\"200\" alt=\"Skills Network Logo\">\n",
    "    </a>\n",
    "</p>\n"
   ]
  },
  {
   "cell_type": "markdown",
   "metadata": {},
   "source": [
    "# **Space X  Falcon 9 First Stage Landing Prediction**\n"
   ]
  },
  {
   "cell_type": "markdown",
   "metadata": {},
   "source": [
    "## Web scraping Falcon 9 and Falcon Heavy Launches Records from Wikipedia\n"
   ]
  },
  {
   "cell_type": "markdown",
   "metadata": {},
   "source": [
    "Estimated time needed: **40** minutes\n"
   ]
  },
  {
   "cell_type": "markdown",
   "metadata": {},
   "source": [
    "In this lab, you will be performing web scraping to collect Falcon 9 historical launch records from a Wikipedia page titled `List of Falcon 9 and Falcon Heavy launches`\n",
    "\n",
    "https://en.wikipedia.org/wiki/List_of_Falcon_9_and_Falcon_Heavy_launches\n"
   ]
  },
  {
   "cell_type": "markdown",
   "metadata": {},
   "source": [
    "![](https://cf-courses-data.s3.us.cloud-object-storage.appdomain.cloud/IBM-DS0321EN-SkillsNetwork/labs/module_1_L2/images/Falcon9_rocket_family.svg)\n"
   ]
  },
  {
   "cell_type": "markdown",
   "metadata": {},
   "source": [
    "Falcon 9 first stage will land successfully\n"
   ]
  },
  {
   "cell_type": "markdown",
   "metadata": {},
   "source": [
    "![](https://cf-courses-data.s3.us.cloud-object-storage.appdomain.cloud/IBMDeveloperSkillsNetwork-DS0701EN-SkillsNetwork/api/Images/landing_1.gif)\n"
   ]
  },
  {
   "cell_type": "markdown",
   "metadata": {},
   "source": [
    "Several examples of an unsuccessful landing are shown here:\n"
   ]
  },
  {
   "cell_type": "markdown",
   "metadata": {},
   "source": [
    "![](https://cf-courses-data.s3.us.cloud-object-storage.appdomain.cloud/IBMDeveloperSkillsNetwork-DS0701EN-SkillsNetwork/api/Images/crash.gif)\n"
   ]
  },
  {
   "cell_type": "markdown",
   "metadata": {},
   "source": [
    "More specifically, the launch records are stored in a HTML table shown below:\n"
   ]
  },
  {
   "cell_type": "markdown",
   "metadata": {},
   "source": [
    "![](https://cf-courses-data.s3.us.cloud-object-storage.appdomain.cloud/IBM-DS0321EN-SkillsNetwork/labs/module_1_L2/images/falcon9-launches-wiki.png)\n"
   ]
  },
  {
   "cell_type": "markdown",
   "metadata": {},
   "source": [
    "  ## Objectives\n",
    "Web scrap Falcon 9 launch records with `BeautifulSoup`: \n",
    "- Extract a Falcon 9 launch records HTML table from Wikipedia\n",
    "- Parse the table and convert it into a Pandas data frame\n"
   ]
  },
  {
   "cell_type": "code",
   "execution_count": null,
   "metadata": {},
   "outputs": [],
   "source": []
  },
  {
   "cell_type": "markdown",
   "metadata": {},
   "source": [
    "First let's import required packages for this lab\n"
   ]
  },
  {
   "cell_type": "code",
   "execution_count": 1,
   "metadata": {
    "tags": []
   },
   "outputs": [
    {
     "name": "stdout",
     "output_type": "stream",
     "text": [
      "Requirement already satisfied: beautifulsoup4 in /home/jupyterlab/conda/envs/python/lib/python3.7/site-packages (4.11.1)\n",
      "Requirement already satisfied: soupsieve>1.2 in /home/jupyterlab/conda/envs/python/lib/python3.7/site-packages (from beautifulsoup4) (2.3.2.post1)\n",
      "Requirement already satisfied: requests in /home/jupyterlab/conda/envs/python/lib/python3.7/site-packages (2.29.0)\n",
      "Requirement already satisfied: charset-normalizer<4,>=2 in /home/jupyterlab/conda/envs/python/lib/python3.7/site-packages (from requests) (3.1.0)\n",
      "Requirement already satisfied: idna<4,>=2.5 in /home/jupyterlab/conda/envs/python/lib/python3.7/site-packages (from requests) (3.4)\n",
      "Requirement already satisfied: urllib3<1.27,>=1.21.1 in /home/jupyterlab/conda/envs/python/lib/python3.7/site-packages (from requests) (1.26.15)\n",
      "Requirement already satisfied: certifi>=2017.4.17 in /home/jupyterlab/conda/envs/python/lib/python3.7/site-packages (from requests) (2023.5.7)\n"
     ]
    }
   ],
   "source": [
    "!pip3 install beautifulsoup4\n",
    "!pip3 install requests"
   ]
  },
  {
   "cell_type": "code",
   "execution_count": 2,
   "metadata": {
    "tags": []
   },
   "outputs": [],
   "source": [
    "import sys\n",
    "\n",
    "import requests\n",
    "from bs4 import BeautifulSoup\n",
    "import re\n",
    "import unicodedata\n",
    "import pandas as pd"
   ]
  },
  {
   "cell_type": "markdown",
   "metadata": {},
   "source": [
    "and we will provide some helper functions for you to process web scraped HTML table\n"
   ]
  },
  {
   "cell_type": "code",
   "execution_count": 3,
   "metadata": {
    "tags": []
   },
   "outputs": [],
   "source": [
    "def date_time(table_cells):\n",
    "    \"\"\"\n",
    "    This function returns the data and time from the HTML  table cell\n",
    "    Input: the  element of a table data cell extracts extra row\n",
    "    \"\"\"\n",
    "    return [data_time.strip() for data_time in list(table_cells.strings)][0:2]\n",
    "\n",
    "def booster_version(table_cells):\n",
    "    \"\"\"\n",
    "    This function returns the booster version from the HTML  table cell \n",
    "    Input: the  element of a table data cell extracts extra row\n",
    "    \"\"\"\n",
    "    out=''.join([booster_version for i,booster_version in enumerate( table_cells.strings) if i%2==0][0:-1])\n",
    "    return out\n",
    "\n",
    "def landing_status(table_cells):\n",
    "    \"\"\"\n",
    "    This function returns the landing status from the HTML table cell \n",
    "    Input: the  element of a table data cell extracts extra row\n",
    "    \"\"\"\n",
    "    out=[i for i in table_cells.strings][0]\n",
    "    return out\n",
    "\n",
    "\n",
    "def get_mass(table_cells):\n",
    "    mass=unicodedata.normalize(\"NFKD\", table_cells.text).strip()\n",
    "    if mass:\n",
    "        mass.find(\"kg\")\n",
    "        new_mass=mass[0:mass.find(\"kg\")+2]\n",
    "    else:\n",
    "        new_mass=0\n",
    "    return new_mass\n",
    "\n",
    "\n",
    "def extract_column_from_header(row):\n",
    "    \"\"\"\n",
    "    This function returns the landing status from the HTML table cell \n",
    "    Input: the  element of a table data cell extracts extra row\n",
    "    \"\"\"\n",
    "    if (row.br):\n",
    "        row.br.extract()\n",
    "    if row.a:\n",
    "        row.a.extract()\n",
    "    if row.sup:\n",
    "        row.sup.extract()\n",
    "        \n",
    "    colunm_name = ' '.join(row.contents)\n",
    "    \n",
    "    # Filter the digit and empty names\n",
    "    if not(colunm_name.strip().isdigit()):\n",
    "        colunm_name = colunm_name.strip()\n",
    "        return colunm_name    \n"
   ]
  },
  {
   "cell_type": "markdown",
   "metadata": {},
   "source": [
    "To keep the lab tasks consistent, you will be asked to scrape the data from a snapshot of the  `List of Falcon 9 and Falcon Heavy launches` Wikipage updated on\n",
    "`9th June 2021`\n"
   ]
  },
  {
   "cell_type": "code",
   "execution_count": 4,
   "metadata": {
    "tags": []
   },
   "outputs": [],
   "source": [
    "static_url = \"https://en.wikipedia.org/w/index.php?title=List_of_Falcon_9_and_Falcon_Heavy_launches&oldid=1027686922\""
   ]
  },
  {
   "cell_type": "markdown",
   "metadata": {},
   "source": [
    "Next, request the HTML page from the above URL and get a `response` object\n"
   ]
  },
  {
   "cell_type": "markdown",
   "metadata": {},
   "source": [
    "### TASK 1: Request the Falcon9 Launch Wiki page from its URL\n"
   ]
  },
  {
   "cell_type": "markdown",
   "metadata": {},
   "source": [
    "First, let's perform an HTTP GET method to request the Falcon9 Launch HTML page, as an HTTP response.\n"
   ]
  },
  {
   "cell_type": "code",
   "execution_count": 5,
   "metadata": {
    "tags": []
   },
   "outputs": [
    {
     "name": "stdout",
     "output_type": "stream",
     "text": [
      "Request was successful!\n"
     ]
    }
   ],
   "source": [
    "# use requests.get() method with the provided static_url\n",
    "# assign the response to a object\n",
    "# Realizar la solicitud HTTP GET a la página de Wikipedia\n",
    "response = requests.get(static_url)\n",
    "\n",
    "# Verificar que la solicitud fue exitosa\n",
    "if response.status_code == 200:\n",
    "    print(\"Request was successful!\")\n",
    "else:\n",
    "    print(f\"Request failed with status code: {response.status_code}\")"
   ]
  },
  {
   "cell_type": "markdown",
   "metadata": {},
   "source": [
    "Create a `BeautifulSoup` object from the HTML `response`\n"
   ]
  },
  {
   "cell_type": "code",
   "execution_count": 6,
   "metadata": {
    "tags": []
   },
   "outputs": [],
   "source": [
    "# Use BeautifulSoup() to create a BeautifulSoup object from a response text content\n",
    "\n",
    "soup = BeautifulSoup(response.text, 'html.parser')\n"
   ]
  },
  {
   "cell_type": "markdown",
   "metadata": {},
   "source": [
    "Print the page title to verify if the `BeautifulSoup` object was created properly \n"
   ]
  },
  {
   "cell_type": "code",
   "execution_count": 7,
   "metadata": {
    "tags": []
   },
   "outputs": [
    {
     "name": "stdout",
     "output_type": "stream",
     "text": [
      "<title>List of Falcon 9 and Falcon Heavy launches - Wikipedia</title>\n"
     ]
    }
   ],
   "source": [
    "# Use soup.title attribute\n",
    "# Imprimir el título de la página para verificar la creación correcta del objeto BeautifulSoup\n",
    "print(soup.title)"
   ]
  },
  {
   "cell_type": "markdown",
   "metadata": {},
   "source": [
    "### TASK 2: Extract all column/variable names from the HTML table header\n"
   ]
  },
  {
   "cell_type": "markdown",
   "metadata": {},
   "source": [
    "Next, we want to collect all relevant column names from the HTML table header\n"
   ]
  },
  {
   "cell_type": "markdown",
   "metadata": {},
   "source": [
    "Let's try to find all tables on the wiki page first. If you need to refresh your memory about `BeautifulSoup`, please check the external reference link towards the end of this lab\n"
   ]
  },
  {
   "cell_type": "code",
   "execution_count": 8,
   "metadata": {
    "tags": []
   },
   "outputs": [
    {
     "name": "stdout",
     "output_type": "stream",
     "text": [
      "Number of tables found: 25\n"
     ]
    }
   ],
   "source": [
    "# Use the find_all function in the BeautifulSoup object, with element type `table`\n",
    "# Assign the result to a list called `html_tables`\n",
    "# Utilizar find_all para encontrar todas las tablas en el documento HTML\n",
    "html_tables = soup.find_all('table')\n",
    "\n",
    "# Imprimir la cantidad de tablas encontradas para verificar\n",
    "print(f\"Number of tables found: {len(html_tables)}\")"
   ]
  },
  {
   "cell_type": "markdown",
   "metadata": {},
   "source": [
    "Starting from the third table is our target table contains the actual launch records.\n"
   ]
  },
  {
   "cell_type": "markdown",
   "metadata": {},
   "source": [
    "You should able to see the columns names embedded in the table header elements `<th>` as follows:\n"
   ]
  },
  {
   "cell_type": "markdown",
   "metadata": {},
   "source": [
    "```\n",
    "<tr>\n",
    "<th scope=\"col\">Flight No.\n",
    "</th>\n",
    "<th scope=\"col\">Date and<br/>time (<a href=\"/wiki/Coordinated_Universal_Time\" title=\"Coordinated Universal Time\">UTC</a>)\n",
    "</th>\n",
    "<th scope=\"col\"><a href=\"/wiki/List_of_Falcon_9_first-stage_boosters\" title=\"List of Falcon 9 first-stage boosters\">Version,<br/>Booster</a> <sup class=\"reference\" id=\"cite_ref-booster_11-0\"><a href=\"#cite_note-booster-11\">[b]</a></sup>\n",
    "</th>\n",
    "<th scope=\"col\">Launch site\n",
    "</th>\n",
    "<th scope=\"col\">Payload<sup class=\"reference\" id=\"cite_ref-Dragon_12-0\"><a href=\"#cite_note-Dragon-12\">[c]</a></sup>\n",
    "</th>\n",
    "<th scope=\"col\">Payload mass\n",
    "</th>\n",
    "<th scope=\"col\">Orbit\n",
    "</th>\n",
    "<th scope=\"col\">Customer\n",
    "</th>\n",
    "<th scope=\"col\">Launch<br/>outcome\n",
    "</th>\n",
    "<th scope=\"col\"><a href=\"/wiki/Falcon_9_first-stage_landing_tests\" title=\"Falcon 9 first-stage landing tests\">Booster<br/>landing</a>\n",
    "</th></tr>\n",
    "```\n"
   ]
  },
  {
   "cell_type": "markdown",
   "metadata": {},
   "source": [
    "Next, we just need to iterate through the `<th>` elements and apply the provided `extract_column_from_header()` to extract column name one by one\n"
   ]
  },
  {
   "cell_type": "code",
   "execution_count": 13,
   "metadata": {
    "tags": []
   },
   "outputs": [
    {
     "name": "stdout",
     "output_type": "stream",
     "text": [
      "Extracted column name: Flight No.\n",
      "Extracted column name: Date and time ( )\n",
      "Extracted column name: \n",
      "Extracted column name: Launch site\n",
      "Extracted column name: Payload\n",
      "Extracted column name: Payload mass\n",
      "Extracted column name: Orbit\n",
      "Extracted column name: Customer\n",
      "Extracted column name: Launch outcome\n",
      "Extracted column name: \n",
      "Extracted column name: Flight No.\n",
      "Extracted column name: Date and time ( )\n",
      "Extracted column name: \n",
      "Extracted column name: Launch site\n",
      "Extracted column name: Payload\n",
      "Extracted column name: Payload mass\n",
      "Extracted column name: Orbit\n",
      "Extracted column name: Customer\n",
      "Extracted column name: Launch outcome\n",
      "Extracted column name: \n",
      "Extracted column name: Flight No.\n",
      "Extracted column name: Date and time ( )\n",
      "Extracted column name: \n",
      "Extracted column name: Launch site\n",
      "Extracted column name: Payload\n",
      "Extracted column name: Payload mass\n",
      "Extracted column name: Orbit\n",
      "Extracted column name: Customer\n",
      "Extracted column name: Launch outcome\n",
      "Extracted column name: \n",
      "Extracted column name: Flight No.\n",
      "Extracted column name: Date and time ( )\n",
      "Extracted column name: \n",
      "Extracted column name: Launch site\n",
      "Extracted column name: Payload\n",
      "Extracted column name: Payload mass\n",
      "Extracted column name: Orbit\n",
      "Extracted column name: Customer\n",
      "Extracted column name: Launch outcome\n",
      "Extracted column name: \n",
      "Extracted column name: N/A\n",
      "Extracted column name: Flight No.\n",
      "Extracted column name: Date and time ( )\n",
      "Extracted column name: \n",
      "Extracted column name: Launch site\n",
      "Extracted column name: Payload\n",
      "Extracted column name: Payload mass\n",
      "Extracted column name: Orbit\n",
      "Extracted column name: Customer\n",
      "Extracted column name: Launch outcome\n",
      "Extracted column name: \n",
      "Extracted column name: Flight No.\n",
      "Extracted column name: Date and time ( )\n",
      "Extracted column name: \n",
      "Extracted column name: Launch site\n",
      "Extracted column name: Payload\n",
      "Extracted column name: Payload mass\n",
      "Extracted column name: Orbit\n",
      "Extracted column name: Customer\n",
      "Extracted column name: Launch outcome\n",
      "Extracted column name: \n",
      "Extracted column name: \n",
      "Extracted column name: Flight No.\n",
      "Extracted column name: Date and time ( )\n",
      "Extracted column name: \n",
      "Extracted column name: Launch site\n",
      "Extracted column name: Payload\n",
      "Extracted column name: Payload mass\n",
      "Extracted column name: Orbit\n",
      "Extracted column name: Customer\n",
      "Extracted column name: Launch outcome\n",
      "Extracted column name: \n",
      "Extracted column name: FH 2\n",
      "Extracted column name: FH 3\n",
      "Extracted column name: Flight No.\n",
      "Extracted column name: Date and time ( )\n",
      "Extracted column name: \n",
      "Extracted column name: Launch site\n",
      "Extracted column name: Payload\n",
      "Extracted column name: Payload mass\n",
      "Extracted column name: Orbit\n",
      "Extracted column name: Customer\n",
      "Extracted column name: Launch outcome\n",
      "Extracted column name: \n",
      "Extracted column name: Flight\n",
      "Extracted column name: Date and time ( )\n",
      "Extracted column name: \n",
      "Extracted column name: Launch site\n",
      "Extracted column name: Payload\n",
      "Extracted column name: Payload mass\n",
      "Extracted column name: Orbit\n",
      "Extracted column name: Customer\n",
      "Extracted column name: Launch outcome\n",
      "Extracted column name: \n",
      "Extracted column name: Date and time ( )\n",
      "Extracted column name: \n",
      "Extracted column name: Launch site\n",
      "Extracted column name: Payload\n",
      "Extracted column name: Orbit\n",
      "Extracted column name: Customer\n",
      "Extracted column name: Date and time ( )\n",
      "Extracted column name: \n",
      "Extracted column name: Launch site\n",
      "Extracted column name: Payload\n",
      "Extracted column name: Orbit\n",
      "Extracted column name: Customer\n",
      "Extracted column name: Date and time ( )\n",
      "Extracted column name: \n",
      "Extracted column name: Launch site\n",
      "Extracted column name: Payload\n",
      "Extracted column name: Orbit\n",
      "Extracted column name: Customer\n",
      "Extracted column name: Date and time ( )\n",
      "Extracted column name: \n",
      "Extracted column name: Launch site\n",
      "Extracted column name: Payload\n",
      "Extracted column name: Orbit\n",
      "Extracted column name: Customer\n",
      "Extracted column name: \n",
      "Extracted column name: \n",
      "Extracted column name: \n",
      "Extracted column name: \n",
      "Extracted column name: Demonstrations\n",
      "Extracted column name: logistics\n",
      "Extracted column name: Crewed\n",
      "Extracted column name: Commercial satellites\n",
      "Extracted column name: Scientific satellites\n",
      "Extracted column name: Military satellites\n",
      "Extracted column name: \n",
      "Extracted column name: Rideshares\n",
      "Extracted column name: Transporter\n",
      "Extracted column name: Bandwagon\n",
      "Extracted column name: \n",
      "Extracted column name: \n",
      "Extracted column name: Demonstrations\n",
      "Extracted column name: logistics\n",
      "Extracted column name: Crewed\n",
      "Extracted column name: Commercial satellites\n",
      "Extracted column name: Scientific satellites\n",
      "Extracted column name: Military satellites\n",
      "Extracted column name: \n",
      "Extracted column name: Rideshares\n",
      "Extracted column name: Transporter\n",
      "Extracted column name: Bandwagon\n",
      "Extracted column name: Transporter\n",
      "Extracted column name: Bandwagon\n",
      "Extracted column name: \n",
      "Extracted column name: \n",
      "Extracted column name: Current\n",
      "Extracted column name: In development\n",
      "Extracted column name: Retired\n",
      "Extracted column name: Cancelled\n",
      "Extracted column name: Spacecraft\n",
      "Extracted column name: Cargo\n",
      "Extracted column name: Crewed\n",
      "Extracted column name: Test vehicles\n",
      "Extracted column name: Current\n",
      "Extracted column name: Retired\n",
      "Extracted column name: Unflown\n",
      "Extracted column name: \n",
      "Extracted column name: \n",
      "Extracted column name: \n",
      "Extracted column name: Orbital\n",
      "Extracted column name: Atmospheric\n",
      "Extracted column name: Landing sites\n",
      "Extracted column name: Other facilities\n",
      "Extracted column name: Support\n",
      "Extracted column name: Contracts\n",
      "Extracted column name: R&D programs\n",
      "Extracted column name: Key people\n",
      "Extracted column name: Related\n",
      "Extracted column name: Current\n",
      "Extracted column name: In development\n",
      "Extracted column name: Retired\n",
      "Extracted column name: Cancelled\n",
      "Extracted column name: Cargo\n",
      "Extracted column name: Crewed\n",
      "Extracted column name: Current\n",
      "Extracted column name: Retired\n",
      "Extracted column name: Unflown\n",
      "Extracted column name: Orbital\n",
      "Extracted column name: Atmospheric\n",
      "Extracted column name: \n",
      "Extracted column name: General\n",
      "Extracted column name: \n",
      "Extracted column name: General\n",
      "Extracted column name: \n",
      "Extracted column name: \n",
      "Extracted column name: \n",
      "Extracted column name: \n",
      "Extracted column name: \n",
      "Extracted column name: People\n",
      "Extracted column name: \n",
      "Extracted column name: \n",
      "Extracted column name: \n",
      "Extracted column name: Vehicles\n",
      "Extracted column name: Launches by rocket type\n",
      "Extracted column name: Launches by spaceport\n",
      "Extracted column name: Agencies, companies and facilities\n",
      "Extracted column name: Other mission lists and timelines\n",
      "Extracted column name: General\n",
      "Extracted column name: \n",
      "Extracted column name: \n",
      "Extracted column name: \n",
      "Extracted column name: \n",
      "Extracted column name: \n",
      "Extracted column name: People\n",
      "Extracted column name: \n",
      "Extracted Column Names: ['Flight No.', 'Date and time ( )', 'Launch site', 'Payload', 'Payload mass', 'Orbit', 'Customer', 'Launch outcome', 'N/A', 'FH 2', 'FH 3', 'Flight', 'Demonstrations', 'logistics', 'Crewed', 'Commercial satellites', 'Scientific satellites', 'Military satellites', 'Rideshares', 'Transporter', 'Bandwagon', 'Current', 'In development', 'Retired', 'Cancelled', 'Spacecraft', 'Cargo', 'Test vehicles', 'Unflown', 'Orbital', 'Atmospheric', 'Landing sites', 'Other facilities', 'Support', 'Contracts', 'R&D programs', 'Key people', 'Related', 'General', 'People', 'Vehicles', 'Launches by rocket type', 'Launches by spaceport', 'Agencies, companies and facilities', 'Other mission lists and timelines']\n"
     ]
    }
   ],
   "source": [
    "# Inicializar la lista para almacenar los nombres de las columnas\n",
    "column_names = []\n",
    "\n",
    "# Iterar sobre cada tabla encontrada\n",
    "for table in html_tables:\n",
    "    # Encontrar todos los elementos <th> en la tabla\n",
    "    th_elements = table.find_all('th')\n",
    "    \n",
    "    # Aplicar la función extract_column_from_header() a cada <th> para extraer los nombres de las columnas\n",
    "    for th in th_elements:\n",
    "        column_name = extract_column_from_header(th)\n",
    "        \n",
    "        # Agregar el nombre de la columna a la lista si no está vacío\n",
    "        if column_name and column_name not in column_names:\n",
    "            column_names.append(column_name)\n",
    "\n",
    "# Imprimir la lista completa de nombres de columnas para verificar\n",
    "print(\"Extracted Column Names:\", column_names)"
   ]
  },
  {
   "cell_type": "code",
   "execution_count": 14,
   "metadata": {
    "tags": []
   },
   "outputs": [],
   "source": [
    "def extract_column_from_header(row):\n",
    "    \"\"\"\n",
    "    Esta función devuelve el nombre de la columna desde una celda de tabla HTML.\n",
    "    \"\"\"\n",
    "    if row.br:\n",
    "        row.br.extract()\n",
    "    if row.a:\n",
    "        row.a.extract()\n",
    "    if row.sup:\n",
    "        row.sup.extract()\n",
    "    \n",
    "    # Extraer solo el texto de los elementos en 'row.contents'\n",
    "    column_name = ' '.join([str(item) for item in row.contents if isinstance(item, str) or isinstance(item, str)])\n",
    "    \n",
    "    # Filtrar nombres de columna vacíos o solo dígitos\n",
    "    if not column_name.strip().isdigit():\n",
    "        column_name = column_name.strip()\n",
    "        print(\"Extracted column name:\", column_name)  # Imprimir el nombre de la columna aquí\n",
    "        return column_name"
   ]
  },
  {
   "cell_type": "markdown",
   "metadata": {},
   "source": [
    "Check the extracted column names\n"
   ]
  },
  {
   "cell_type": "code",
   "execution_count": 15,
   "metadata": {
    "tags": []
   },
   "outputs": [
    {
     "name": "stdout",
     "output_type": "stream",
     "text": [
      "Extracted Column Names: ['Flight No.', 'Date and time ( )', 'Launch site', 'Payload', 'Payload mass', 'Orbit', 'Customer', 'Launch outcome', 'N/A', 'FH 2', 'FH 3', 'Flight', 'Demonstrations', 'logistics', 'Crewed', 'Commercial satellites', 'Scientific satellites', 'Military satellites', 'Rideshares', 'Transporter', 'Bandwagon', 'Current', 'In development', 'Retired', 'Cancelled', 'Spacecraft', 'Cargo', 'Test vehicles', 'Unflown', 'Orbital', 'Atmospheric', 'Landing sites', 'Other facilities', 'Support', 'Contracts', 'R&D programs', 'Key people', 'Related', 'General', 'People', 'Vehicles', 'Launches by rocket type', 'Launches by spaceport', 'Agencies, companies and facilities', 'Other mission lists and timelines']\n"
     ]
    }
   ],
   "source": [
    "# Asumiendo que ya tienes el código para llenar la lista 'column_names'\n",
    "\n",
    "# Imprimir la lista completa de nombres de columnas\n",
    "print(\"Extracted Column Names:\", column_names)"
   ]
  },
  {
   "cell_type": "markdown",
   "metadata": {},
   "source": [
    "## TASK 3: Create a data frame by parsing the launch HTML tables\n"
   ]
  },
  {
   "cell_type": "markdown",
   "metadata": {},
   "source": [
    "We will create an empty dictionary with keys from the extracted column names in the previous task. Later, this dictionary will be converted into a Pandas dataframe\n"
   ]
  },
  {
   "cell_type": "code",
   "execution_count": 16,
   "metadata": {
    "tags": []
   },
   "outputs": [],
   "source": [
    "launch_dict= dict.fromkeys(column_names)\n",
    "\n",
    "# Remove an irrelvant column\n",
    "del launch_dict['Date and time ( )']\n",
    "\n",
    "# Let's initial the launch_dict with each value to be an empty list\n",
    "launch_dict['Flight No.'] = []\n",
    "launch_dict['Launch site'] = []\n",
    "launch_dict['Payload'] = []\n",
    "launch_dict['Payload mass'] = []\n",
    "launch_dict['Orbit'] = []\n",
    "launch_dict['Customer'] = []\n",
    "launch_dict['Launch outcome'] = []\n",
    "# Added some new columns\n",
    "launch_dict['Version Booster']=[]\n",
    "launch_dict['Booster landing']=[]\n",
    "launch_dict['Date']=[]\n",
    "launch_dict['Time']=[]"
   ]
  },
  {
   "cell_type": "markdown",
   "metadata": {},
   "source": [
    "Next, we just need to fill up the `launch_dict` with launch records extracted from table rows.\n"
   ]
  },
  {
   "cell_type": "markdown",
   "metadata": {},
   "source": [
    "Usually, HTML tables in Wiki pages are likely to contain unexpected annotations and other types of noises, such as reference links `B0004.1[8]`, missing values `N/A [e]`, inconsistent formatting, etc.\n"
   ]
  },
  {
   "cell_type": "markdown",
   "metadata": {},
   "source": [
    "To simplify the parsing process, we have provided an incomplete code snippet below to help you to fill up the `launch_dict`. Please complete the following code snippet with TODOs or you can choose to write your own logic to parse all launch tables:\n"
   ]
  },
  {
   "cell_type": "code",
   "execution_count": 17,
   "metadata": {
    "tags": []
   },
   "outputs": [],
   "source": [
    "extracted_row = 0\n",
    "\n",
    "# Extraer cada tabla\n",
    "for table_number, table in enumerate(soup.find_all('table', \"wikitable plainrowheaders collapsible\")):\n",
    "    # Obtener las filas de la tabla\n",
    "    for rows in table.find_all(\"tr\"):\n",
    "        # Verificar si el primer encabezado de la fila es un número correspondiente a un número de lanzamiento\n",
    "        if rows.th:\n",
    "            if rows.th.string:\n",
    "                flight_number = rows.th.string.strip()\n",
    "                flag = flight_number.isdigit()\n",
    "        else:\n",
    "            flag = False\n",
    "\n",
    "        # Obtener los elementos de la fila\n",
    "        row = rows.find_all('td')\n",
    "\n",
    "        # Si es un número, guardar las celdas en el diccionario\n",
    "        if flag:\n",
    "            extracted_row += 1\n",
    "\n",
    "            # Flight Number value\n",
    "            launch_dict['Flight No.'].append(flight_number)\n",
    "\n",
    "            # Date value\n",
    "            datatimelist = date_time(row[0])\n",
    "            date = datatimelist[0].strip(',')\n",
    "            launch_dict['Date'].append(date)\n",
    "\n",
    "            # Time value\n",
    "            time = datatimelist[1]\n",
    "            launch_dict['Time'].append(time)\n",
    "\n",
    "            # Booster version\n",
    "            bv = booster_version(row[1])\n",
    "            if not bv:\n",
    "                bv = row[1].a.string if row[1].a else None\n",
    "            launch_dict['Version Booster'].append(bv)\n",
    "\n",
    "            # Launch Site\n",
    "            launch_site = row[2].a.string if row[2].a else None\n",
    "            launch_dict['Launch site'].append(launch_site)\n",
    "\n",
    "            # Payload\n",
    "            payload = row[3].a.string if row[3].a else None\n",
    "            launch_dict['Payload'].append(payload)\n",
    "\n",
    "            # Payload Mass\n",
    "            payload_mass = get_mass(row[4])\n",
    "            launch_dict['Payload mass'].append(payload_mass)\n",
    "\n",
    "            # Orbit\n",
    "            orbit = row[5].a.string if row[5].a else None\n",
    "            launch_dict['Orbit'].append(orbit)\n",
    "\n",
    "            # Customer\n",
    "            customer = row[6].a.string if row[6].a else None\n",
    "            launch_dict['Customer'].append(customer)\n",
    "\n",
    "            # Launch outcome\n",
    "            launch_outcome = list(row[7].strings)[0] if row[7].strings else None\n",
    "            launch_dict['Launch outcome'].append(launch_outcome)\n",
    "\n",
    "            # Booster landing\n",
    "            booster_landing = landing_status(row[8]) if row[8] else None\n",
    "            launch_dict['Booster landing'].append(booster_landing)"
   ]
  },
  {
   "cell_type": "markdown",
   "metadata": {},
   "source": [
    "After you have fill in the parsed launch record values into `launch_dict`, you can create a dataframe from it.\n"
   ]
  },
  {
   "cell_type": "code",
   "execution_count": 18,
   "metadata": {
    "tags": []
   },
   "outputs": [
    {
     "name": "stderr",
     "output_type": "stream",
     "text": [
      "/home/jupyterlab/conda/envs/python/lib/python3.7/site-packages/ipykernel_launcher.py:1: DeprecationWarning: The default dtype for empty Series will be 'object' instead of 'float64' in a future version. Specify a dtype explicitly to silence this warning.\n",
      "  \"\"\"Entry point for launching an IPython kernel.\n"
     ]
    }
   ],
   "source": [
    "df= pd.DataFrame({ key:pd.Series(value) for key, value in launch_dict.items() })"
   ]
  },
  {
   "cell_type": "code",
   "execution_count": 19,
   "metadata": {
    "tags": []
   },
   "outputs": [
    {
     "name": "stdout",
     "output_type": "stream",
     "text": [
      "Request was successful!\n",
      "Columnas en el DataFrame: Index(['static_fire_date_utc', 'static_fire_date_unix', 'net', 'window',\n",
      "       'rocket', 'success', 'failures', 'details', 'crew', 'ships', 'capsules',\n",
      "       'payloads', 'launchpad', 'flight_number', 'name', 'date_utc',\n",
      "       'date_unix', 'date_local', 'date_precision', 'upcoming', 'cores',\n",
      "       'auto_update', 'tbd', 'launch_library_id', 'id', 'fairings.reused',\n",
      "       'fairings.recovery_attempt', 'fairings.recovered', 'fairings.ships',\n",
      "       'links.patch.small', 'links.patch.large', 'links.reddit.campaign',\n",
      "       'links.reddit.launch', 'links.reddit.media', 'links.reddit.recovery',\n",
      "       'links.flickr.small', 'links.flickr.original', 'links.presskit',\n",
      "       'links.webcast', 'links.youtube_id', 'links.article', 'links.wikipedia',\n",
      "       'fairings'],\n",
      "      dtype='object')\n",
      "Número de lanzamientos de Falcon 9: 187\n",
      "Valores faltantes en landingPad: 36\n"
     ]
    }
   ],
   "source": [
    "import requests\n",
    "import pandas as pd\n",
    "\n",
    "# URL de la API de SpaceX para obtener los lanzamientos pasados\n",
    "spacex_url = \"https://api.spacexdata.com/v4/launches/past\"\n",
    "\n",
    "# Realizar la solicitud GET a la API de SpaceX\n",
    "response = requests.get(spacex_url)\n",
    "\n",
    "# Verificar que la solicitud fue exitosa\n",
    "if response.status_code == 200:\n",
    "    print(\"Request was successful!\")\n",
    "    # Convertir la respuesta a un DataFrame de pandas usando pd.json_normalize\n",
    "    data = response.json()\n",
    "    df_api = pd.json_normalize(data)\n",
    "    \n",
    "    # Verificar las columnas presentes en el DataFrame\n",
    "    print(\"Columnas en el DataFrame:\", df_api.columns)\n",
    "    \n",
    "    # Filtrar los lanzamientos de Falcon 9 eliminando los de Falcon 1\n",
    "    falcon9_launches = df_api[df_api['rocket'] != 'Falcon 1']\n",
    "    print(\"Número de lanzamientos de Falcon 9:\", len(falcon9_launches))\n",
    "    \n",
    "    # Verificar valores faltantes en la columna landingPad\n",
    "    if 'cores' in df_api.columns:\n",
    "        # Si los datos de landingPad están en la columna 'cores', extraer la información\n",
    "        df_api['landingPad'] = df_api['cores'].apply(lambda x: x[0]['landpad'] if isinstance(x, list) and len(x) > 0 and 'landpad' in x[0] else None)\n",
    "        missing_landingPad = df_api['landingPad'].isna().sum()\n",
    "        print(\"Valores faltantes en landingPad:\", missing_landingPad)\n",
    "    else:\n",
    "        print(\"'landingPad' no está presente en el DataFrame.\")\n",
    "else:\n",
    "    print(\"Request failed. Status code:\", response.status_code)"
   ]
  },
  {
   "cell_type": "code",
   "execution_count": 21,
   "metadata": {
    "tags": []
   },
   "outputs": [],
   "source": [
    "import requests\n",
    "import pandas as pd\n",
    "\n",
    "# URL de la API de SpaceX para obtener los lanzamientos pasados\n",
    "spacex_url = \"https://api.spacexdata.com/v4/launches/past\"\n",
    "\n",
    "# Realizar la solicitud GET a la API de SpaceX\n",
    "response = requests.get(spacex_url)"
   ]
  },
  {
   "cell_type": "code",
   "execution_count": 22,
   "metadata": {
    "tags": []
   },
   "outputs": [
    {
     "name": "stdout",
     "output_type": "stream",
     "text": [
      "Request was successful!\n"
     ]
    }
   ],
   "source": [
    "if response.status_code == 200:\n",
    "    print(\"Request was successful!\")\n",
    "    # Convertir la respuesta a un DataFrame de pandas usando pd.json_normalize\n",
    "    data = response.json()\n",
    "    df_api = pd.json_normalize(data)\n",
    "else:\n",
    "    print(\"Request failed. Status code:\", response.status_code)"
   ]
  },
  {
   "cell_type": "code",
   "execution_count": 23,
   "metadata": {
    "tags": []
   },
   "outputs": [
    {
     "name": "stdout",
     "output_type": "stream",
     "text": [
      "Número de lanzamientos de Falcon 9: 179\n"
     ]
    }
   ],
   "source": [
    "# Obtener los IDs únicos de los cohetes en los lanzamientos\n",
    "rocket_ids = df_api['rocket'].unique()\n",
    "\n",
    "# Diccionario para almacenar el nombre de los cohetes\n",
    "rocket_names = {}\n",
    "\n",
    "# Obtener el nombre de cada cohete a partir de su ID\n",
    "for rocket_id in rocket_ids:\n",
    "    rocket_response = requests.get(f\"https://api.spacexdata.com/v4/rockets/{rocket_id}\")\n",
    "    if rocket_response.status_code == 200:\n",
    "        rocket_data = rocket_response.json()\n",
    "        rocket_names[rocket_id] = rocket_data['name']\n",
    "\n",
    "# Crear una nueva columna en el DataFrame con los nombres de los cohetes\n",
    "df_api['rocket_name'] = df_api['rocket'].map(rocket_names)\n",
    "\n",
    "# Filtrar solo los lanzamientos de Falcon 9\n",
    "falcon9_launches = df_api[df_api['rocket_name'] == 'Falcon 9']\n",
    "print(\"Número de lanzamientos de Falcon 9:\", len(falcon9_launches))"
   ]
  },
  {
   "cell_type": "code",
   "execution_count": 24,
   "metadata": {
    "tags": []
   },
   "outputs": [
    {
     "name": "stdout",
     "output_type": "stream",
     "text": [
      "Valores faltantes en landingPad: 36\n"
     ]
    }
   ],
   "source": [
    "# Extraer la información del lugar de aterrizaje desde la columna cores\n",
    "df_api['landingPad'] = df_api['cores'].apply(lambda x: x[0]['landpad'] if isinstance(x, list) and len(x) > 0 and x[0].get('landpad') else None)\n",
    "\n",
    "# Contar los valores faltantes en landingPad\n",
    "missing_landingPad = df_api['landingPad'].isnull().sum()\n",
    "print(\"Valores faltantes en landingPad:\", missing_landingPad)"
   ]
  },
  {
   "cell_type": "markdown",
   "metadata": {},
   "source": [
    "We can now export it to a <b>CSV</b> for the next section, but to make the answers consistent and in case you have difficulties finishing this lab. \n",
    "\n",
    "Following labs will be using a provided dataset to make each lab independent. \n"
   ]
  },
  {
   "cell_type": "code",
   "execution_count": null,
   "metadata": {},
   "outputs": [],
   "source": []
  },
  {
   "cell_type": "markdown",
   "metadata": {},
   "source": [
    "<code>df.to_csv('spacex_web_scraped.csv', index=False)</code>\n"
   ]
  },
  {
   "cell_type": "markdown",
   "metadata": {},
   "source": [
    "## Authors\n"
   ]
  },
  {
   "cell_type": "markdown",
   "metadata": {},
   "source": [
    "<a href=\"https://www.linkedin.com/in/yan-luo-96288783/\">Yan Luo</a>\n"
   ]
  },
  {
   "cell_type": "markdown",
   "metadata": {},
   "source": [
    "<a href=\"https://www.linkedin.com/in/nayefaboutayoun/\">Nayef Abou Tayoun</a>\n"
   ]
  },
  {
   "cell_type": "markdown",
   "metadata": {},
   "source": [
    "<!--\n",
    "## Change Log\n",
    "-->\n"
   ]
  },
  {
   "cell_type": "markdown",
   "metadata": {},
   "source": [
    "<!--\n",
    "| Date (YYYY-MM-DD) | Version | Changed By | Change Description      |\n",
    "| ----------------- | ------- | ---------- | ----------------------- |\n",
    "| 2021-06-09        | 1.0     | Yan Luo    | Tasks updates           |\n",
    "| 2020-11-10        | 1.0     | Nayef      | Created the initial version |\n",
    "-->\n"
   ]
  },
  {
   "cell_type": "markdown",
   "metadata": {},
   "source": [
    "Copyright © 2021 IBM Corporation. All rights reserved.\n"
   ]
  }
 ],
 "metadata": {
  "kernelspec": {
   "display_name": "Python",
   "language": "python",
   "name": "conda-env-python-py"
  },
  "language_info": {
   "codemirror_mode": {
    "name": "ipython",
    "version": 3
   },
   "file_extension": ".py",
   "mimetype": "text/x-python",
   "name": "python",
   "nbconvert_exporter": "python",
   "pygments_lexer": "ipython3",
   "version": "3.7.12"
  },
  "prev_pub_hash": "64f1b0aac408997185c47caba18730e0028b75e7934a0e5bf0ae73c5cb7ba677"
 },
 "nbformat": 4,
 "nbformat_minor": 4
}
